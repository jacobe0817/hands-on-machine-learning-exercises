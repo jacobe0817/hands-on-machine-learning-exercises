{
 "cells": [
  {
   "cell_type": "code",
   "execution_count": 1,
   "id": "8f36ac17",
   "metadata": {},
   "outputs": [],
   "source": [
    "# 12. implement Batch Gradient Descent with early stopping for Softmax Regression without using sklearn"
   ]
  },
  {
   "cell_type": "code",
   "execution_count": 2,
   "id": "b177c21d",
   "metadata": {},
   "outputs": [],
   "source": [
    "import numpy as np\n",
    "import math\n",
    "\n",
    "rng = np.random.default_rng(42)"
   ]
  },
  {
   "cell_type": "code",
   "execution_count": 3,
   "id": "497bfba5",
   "metadata": {},
   "outputs": [],
   "source": [
    "def get_random_sample_indices_no_replacement(total_size, sample_size):\n",
    "    all_indices = np.arange(total_size)\n",
    "    rng.shuffle(all_indices)\n",
    "    sample_indices = all_indices[:sample_size]\n",
    "    other_indices = all_indices[sample_size:]\n",
    "    return sample_indices, other_indices"
   ]
  },
  {
   "cell_type": "code",
   "execution_count": 4,
   "id": "3e212c6a",
   "metadata": {},
   "outputs": [],
   "source": [
    "def get_random_sample_indices_replacement(total_size, sample_size):\n",
    "    sample_indices = rng.integers(0, total_size, sample_size)\n",
    "    return sample_indices"
   ]
  },
  {
   "cell_type": "code",
   "execution_count": 5,
   "id": "4855e975",
   "metadata": {},
   "outputs": [],
   "source": [
    "def compute_softmax_estimated_probabilities(features, parameter_matrix):\n",
    "    softmax_scores = features.dot(parameter_matrix.T)\n",
    "    exponentiated_scores = np.exp(softmax_scores)\n",
    "    \n",
    "    total_exp_score_by_class = np.apply_along_axis(np.sum, 1, exponentiated_scores)\n",
    "    \n",
    "    estimated_probabilities = exponentiated_scores / total_exp_score_by_class[:, None]\n",
    "    return estimated_probabilities"
   ]
  },
  {
   "cell_type": "code",
   "execution_count": 6,
   "id": "1a07b226",
   "metadata": {},
   "outputs": [],
   "source": [
    "def compute_cross_entropy_cost(labels, estimated_probabilities):\n",
    "    m = np.shape(labels)[0]\n",
    "    logged_estimated_probabilities = np.log(estimated_probabilities)\n",
    "    cost_matrix = np.multiply(labels, logged_estimated_probabilities)\n",
    "    cost = (-1/m) * np.sum(cost_matrix)\n",
    "    return cost"
   ]
  },
  {
   "cell_type": "code",
   "execution_count": 7,
   "id": "6981dfb0",
   "metadata": {},
   "outputs": [],
   "source": [
    "# compute gradient matrix\n",
    "# it is K rows by n columns, where K is the number of classes and n is the number of features\n",
    "\n",
    "# features is m rows by n columns, where m is the number of instances\n",
    "# labels is m rows by K columns, where K is the number of classes\n",
    "# estimated_probabilities is m rows by K columns\n",
    "\n",
    "# note that the gradient matrix is 1/m times the transpose of probabilities_minus_labels dotted with features"
   ]
  },
  {
   "cell_type": "code",
   "execution_count": 8,
   "id": "47f3c06e",
   "metadata": {},
   "outputs": [],
   "source": [
    "def compute_gradient_matrix(features, labels, estimated_probabilities):\n",
    "    m = np.shape(features)[0]\n",
    "    \n",
    "    probabilities_minus_labels = estimated_probabilities - labels\n",
    "    \n",
    "    gradient_matrix = (1/m) * probabilities_minus_labels.T.dot(features)\n",
    "    return gradient_matrix"
   ]
  },
  {
   "cell_type": "code",
   "execution_count": 9,
   "id": "883717ce",
   "metadata": {},
   "outputs": [],
   "source": [
    "def compute_learning_rate(t, eta0=.01, power_t=.25):\n",
    "    eta = eta0 / pow(t, power_t)\n",
    "    return eta    "
   ]
  },
  {
   "cell_type": "code",
   "execution_count": 10,
   "id": "1cda9c8c",
   "metadata": {},
   "outputs": [],
   "source": [
    "# method parameter for batch, mini batch, or stochastic gradient calculation\n",
    "# mini_batch_size parameter for size of mini batch (defaults to 1 for stochastic)\n",
    "\n",
    "# parameter for number of epochs\n",
    "# to wait and see if best cost function score improves\n",
    "# note that an epoch is either a single batch gradient step, single minibatch gradient step, or group m stochastic gradient steps\n",
    "\n",
    "# parameter for tolerance (only update best cost, best)\n",
    "\n",
    "# returns best parameter matrix, best cost, and number of gradient descent steps performed (t)"
   ]
  },
  {
   "cell_type": "code",
   "execution_count": 11,
   "id": "ceba8ce8",
   "metadata": {},
   "outputs": [],
   "source": [
    "def softmax_regression_with_early_stopping(features, labels, validation_set_ratio=.1, method='stochastic', mini_batch_size=10, n_epochs_to_wait=10_000, tol=0.001):    \n",
    "    # split into training and validation set\n",
    "    M = np.shape(features)[0]\n",
    "    val_set_size = math.ceil(M * validation_set_ratio)\n",
    "    \n",
    "    val_indices, train_indices = get_random_sample_indices_no_replacement(M, val_set_size)\n",
    "    \n",
    "    train_features = features[train_indices]\n",
    "    train_labels = labels[train_indices]\n",
    "    \n",
    "    val_features = features[val_indices]\n",
    "    val_labels = labels[val_indices]\n",
    "    \n",
    "    # initialize variables and parameter matrix\n",
    "    m = np.shape(train_features)[0]\n",
    "    n = np.shape(train_features)[1]\n",
    "    K = np.shape(train_labels)[1]\n",
    "    \n",
    "    parameter_matrix = np.zeros((K, n))\n",
    "    \n",
    "    best_cost = np.inf\n",
    "    best_parameter_matrix = parameter_matrix\n",
    "    n_epochs_waited = 0\n",
    "    \n",
    "    t = 0\n",
    "    \n",
    "    tol_t = None\n",
    "    stochastic_array = None\n",
    "    stochastic_loop_index = None\n",
    "    \n",
    "    # main loop\n",
    "    while True:\n",
    "        # get estimated probabilities for validation set\n",
    "        val_estimated_probabilities = compute_softmax_estimated_probabilities(val_features, parameter_matrix)\n",
    "\n",
    "        # get cost\n",
    "        cost = compute_cross_entropy_cost(val_labels, val_estimated_probabilities)\n",
    "\n",
    "        # compare cost to best_cost for batch and mini batch\n",
    "        if method == 'batch' or method == 'mini_batch':\n",
    "            if best_cost - cost > tol:\n",
    "                best_parameter_matrix = parameter_matrix\n",
    "                best_cost = cost\n",
    "                n_epochs_waited = 0\n",
    "            elif 0 < best_cost - cost:\n",
    "                best_parameter_matrix = parameter_matrix\n",
    "                best_cost = cost\n",
    "                n_epochs_waited += 1\n",
    "            else:\n",
    "                n_epochs_waited += 1\n",
    "                \n",
    "        # compare cost to best_cost for stochastic \n",
    "        elif method =='stochastic':\n",
    "            if best_cost - cost > tol:\n",
    "                best_parameter_matrix = parameter_matrix\n",
    "                best_cost = cost\n",
    "                tol_t = t\n",
    "            elif cost < best_cost:\n",
    "                best_parameter_matrix = parameter_matrix\n",
    "                best_cost = cost\n",
    "            \n",
    "            n_epochs_waited = math.floor((t - tol_t) / m)\n",
    "            \n",
    "\n",
    "        # break training if necessary\n",
    "        if n_epochs_waited >= n_epochs_to_wait:\n",
    "            return best_parameter_matrix, best_cost, t\n",
    "\n",
    "        # calculate gradient\n",
    "        if method == 'batch':\n",
    "            train_estimated_probabilities = compute_softmax_estimated_probabilities(train_features, parameter_matrix)\n",
    "            gradient_matrix = compute_gradient_matrix(train_features, train_labels, train_estimated_probabilities)\n",
    "        elif method == 'mini_batch':\n",
    "            mini_batch_indices = get_random_sample_indices_replacement(m, mini_batch_size)\n",
    "            mini_batch_estimated_probabilities = compute_softmax_estimated_probabilities(train_features[mini_batch_indices], parameter_matrix)\n",
    "            gradient_matrix = compute_gradient_matrix(train_features[mini_batch_indices], train_labels[mini_batch_indices], mini_batch_estimated_probabilities)\n",
    "        elif method == 'stochastic':\n",
    "            if stochastic_array is None or stochastic_loop_index == m:\n",
    "                stochastic_array = get_random_sample_indices_no_replacement(m, m)[0]\n",
    "                stochastic_loop_index = 0\n",
    "            \n",
    "            stochastic_index = [stochastic_array[stochastic_loop_index]]\n",
    "            stochastic_estimated_probability = compute_softmax_estimated_probabilities(train_features[stochastic_index], parameter_matrix)\n",
    "            gradient_matrix = compute_gradient_matrix(train_features[stochastic_index], train_labels[stochastic_index], stochastic_estimated_probability)\n",
    "            stochastic_loop_index += 1\n",
    "            \n",
    "\n",
    "        # compute learning rate\n",
    "        t += 1\n",
    "        learning_rate = compute_learning_rate(t)\n",
    "\n",
    "        # perform gradient step\n",
    "        parameter_matrix = parameter_matrix - learning_rate * gradient_matrix"
   ]
  },
  {
   "cell_type": "code",
   "execution_count": 12,
   "id": "001192bb",
   "metadata": {},
   "outputs": [],
   "source": [
    "############################################ TEST ############################################"
   ]
  },
  {
   "cell_type": "code",
   "execution_count": 13,
   "id": "fea9e148",
   "metadata": {},
   "outputs": [],
   "source": [
    "from sklearn import datasets"
   ]
  },
  {
   "cell_type": "code",
   "execution_count": 14,
   "id": "e919852a",
   "metadata": {},
   "outputs": [],
   "source": [
    "iris = datasets.load_iris()\n",
    "features = iris['data']\n",
    "m = np.shape(features)[0]\n",
    "features_with_bias_column = np.hstack((np.full((m, 1), 1), features))\n",
    "\n",
    "labels = (iris['target'] == 0).astype(int)\n",
    "labels = np.vstack((labels, (iris['target'] == 1).astype(int)))\n",
    "labels = np.vstack((labels, (iris['target'] == 2).astype(int)))\n",
    "labels = labels.T"
   ]
  },
  {
   "cell_type": "code",
   "execution_count": 15,
   "id": "edbb305c",
   "metadata": {},
   "outputs": [],
   "source": [
    "# split into training and test sets"
   ]
  },
  {
   "cell_type": "code",
   "execution_count": 16,
   "id": "7d388b4f",
   "metadata": {},
   "outputs": [],
   "source": [
    "test_set_size = math.ceil(.2 * m)\n",
    "\n",
    "test_indices, train_indices = get_random_sample_indices_no_replacement(m, test_set_size)\n",
    "\n",
    "train_features_with_bias_column = features_with_bias_column[train_indices]\n",
    "train_labels = labels[train_indices]\n",
    "\n",
    "test_features_with_bias_column = features_with_bias_column[test_indices]\n",
    "test_labels = labels[test_indices]"
   ]
  },
  {
   "cell_type": "code",
   "execution_count": 17,
   "id": "dc38b00d",
   "metadata": {},
   "outputs": [],
   "source": [
    "# scale train and test features"
   ]
  },
  {
   "cell_type": "code",
   "execution_count": 18,
   "id": "ee89f0a7",
   "metadata": {},
   "outputs": [],
   "source": [
    "from sklearn.preprocessing import StandardScaler\n",
    "from sklearn.compose import ColumnTransformer"
   ]
  },
  {
   "cell_type": "code",
   "execution_count": 19,
   "id": "2b03e03c",
   "metadata": {},
   "outputs": [],
   "source": [
    "n = np.shape(features_with_bias_column)[1]\n",
    "scaler_that_ignores_bias_column = ColumnTransformer([('constant', 'passthrough', slice(1)), ('feature_weights', StandardScaler(), slice(1, n))])\n",
    "train_features_scaled_linear = scaler_that_ignores_bias_column.fit_transform(train_features_with_bias_column)\n",
    "test_features_scaled_linear = scaler_that_ignores_bias_column.transform(test_features_with_bias_column)"
   ]
  },
  {
   "cell_type": "code",
   "execution_count": 20,
   "id": "788088f3",
   "metadata": {},
   "outputs": [
    {
     "data": {
      "text/plain": [
       "array([[1. , 5.6, 2.7, 4.2, 1.3],\n",
       "       [1. , 6.3, 3.3, 4.7, 1.6],\n",
       "       [1. , 5.7, 2.9, 4.2, 1.3],\n",
       "       [1. , 6.3, 2.9, 5.6, 1.8],\n",
       "       [1. , 6.9, 3.1, 4.9, 1.5],\n",
       "       [1. , 4.3, 3. , 1.1, 0.1],\n",
       "       [1. , 5.8, 2.8, 5.1, 2.4],\n",
       "       [1. , 5.2, 3.4, 1.4, 0.2],\n",
       "       [1. , 7.9, 3.8, 6.4, 2. ],\n",
       "       [1. , 5.4, 3.9, 1.7, 0.4],\n",
       "       [1. , 5.6, 3. , 4.5, 1.5],\n",
       "       [1. , 6.5, 3. , 5.5, 1.8],\n",
       "       [1. , 4.9, 2.5, 4.5, 1.7],\n",
       "       [1. , 7.7, 3. , 6.1, 2.3],\n",
       "       [1. , 4.8, 3. , 1.4, 0.1],\n",
       "       [1. , 5.5, 2.5, 4. , 1.3],\n",
       "       [1. , 6.5, 2.8, 4.6, 1.5],\n",
       "       [1. , 6.2, 2.2, 4.5, 1.5],\n",
       "       [1. , 7.7, 2.8, 6.7, 2. ],\n",
       "       [1. , 5.1, 3.8, 1.6, 0.2],\n",
       "       [1. , 7. , 3.2, 4.7, 1.4],\n",
       "       [1. , 5.8, 2.7, 5.1, 1.9],\n",
       "       [1. , 6.7, 3.3, 5.7, 2.5],\n",
       "       [1. , 4.8, 3. , 1.4, 0.3],\n",
       "       [1. , 6.7, 3.1, 4.7, 1.5],\n",
       "       [1. , 6.1, 2.8, 4.7, 1.2],\n",
       "       [1. , 5. , 3.4, 1.5, 0.2],\n",
       "       [1. , 5.7, 3.8, 1.7, 0.3],\n",
       "       [1. , 6.4, 3.2, 4.5, 1.5],\n",
       "       [1. , 6.3, 2.5, 5. , 1.9],\n",
       "       [1. , 6.3, 2.5, 4.9, 1.5],\n",
       "       [1. , 5.8, 2.6, 4. , 1.2],\n",
       "       [1. , 4.4, 3. , 1.3, 0.2],\n",
       "       [1. , 4.4, 2.9, 1.4, 0.2],\n",
       "       [1. , 6.3, 3.3, 6. , 2.5],\n",
       "       [1. , 5.1, 2.5, 3. , 1.1],\n",
       "       [1. , 5.1, 3.7, 1.5, 0.4],\n",
       "       [1. , 6.1, 2.8, 4. , 1.3],\n",
       "       [1. , 5.2, 2.7, 3.9, 1.4],\n",
       "       [1. , 6.7, 3.1, 4.4, 1.4],\n",
       "       [1. , 6.4, 2.8, 5.6, 2.2],\n",
       "       [1. , 6.7, 2.5, 5.8, 1.8],\n",
       "       [1. , 5. , 2.3, 3.3, 1. ],\n",
       "       [1. , 5. , 3.4, 1.6, 0.4],\n",
       "       [1. , 6.6, 3. , 4.4, 1.4],\n",
       "       [1. , 6.3, 2.8, 5.1, 1.5],\n",
       "       [1. , 6.9, 3.1, 5.4, 2.1],\n",
       "       [1. , 6.4, 2.9, 4.3, 1.3],\n",
       "       [1. , 5.4, 3.7, 1.5, 0.2],\n",
       "       [1. , 5.6, 3. , 4.1, 1.3],\n",
       "       [1. , 4.7, 3.2, 1.6, 0.2],\n",
       "       [1. , 6.1, 2.9, 4.7, 1.4],\n",
       "       [1. , 5.7, 2.8, 4.5, 1.3],\n",
       "       [1. , 5.7, 3. , 4.2, 1.2],\n",
       "       [1. , 4.4, 3.2, 1.3, 0.2],\n",
       "       [1. , 5.1, 3.5, 1.4, 0.3],\n",
       "       [1. , 5.1, 3.4, 1.5, 0.2],\n",
       "       [1. , 5.9, 3. , 5.1, 1.8],\n",
       "       [1. , 5.5, 2.3, 4. , 1.3],\n",
       "       [1. , 6.8, 2.8, 4.8, 1.4],\n",
       "       [1. , 7.3, 2.9, 6.3, 1.8],\n",
       "       [1. , 5. , 3.5, 1.3, 0.3],\n",
       "       [1. , 5.5, 2.4, 3.8, 1.1],\n",
       "       [1. , 5.6, 2.5, 3.9, 1.1],\n",
       "       [1. , 7.7, 2.6, 6.9, 2.3],\n",
       "       [1. , 4.9, 3. , 1.4, 0.2],\n",
       "       [1. , 6.2, 3.4, 5.4, 2.3],\n",
       "       [1. , 6.5, 3. , 5.8, 2.2],\n",
       "       [1. , 6. , 2.2, 5. , 1.5],\n",
       "       [1. , 4.8, 3.4, 1.6, 0.2],\n",
       "       [1. , 6.7, 3. , 5.2, 2.3],\n",
       "       [1. , 5.4, 3. , 4.5, 1.5],\n",
       "       [1. , 6. , 2.7, 5.1, 1.6],\n",
       "       [1. , 5. , 3.5, 1.6, 0.6],\n",
       "       [1. , 6.4, 2.8, 5.6, 2.1],\n",
       "       [1. , 5.2, 4.1, 1.5, 0.1],\n",
       "       [1. , 5.9, 3. , 4.2, 1.5],\n",
       "       [1. , 4.9, 2.4, 3.3, 1. ],\n",
       "       [1. , 6.4, 3.2, 5.3, 2.3],\n",
       "       [1. , 5.1, 3.3, 1.7, 0.5],\n",
       "       [1. , 6.5, 3. , 5.2, 2. ],\n",
       "       [1. , 5.6, 2.8, 4.9, 2. ],\n",
       "       [1. , 5.7, 4.4, 1.5, 0.4],\n",
       "       [1. , 5.3, 3.7, 1.5, 0.2],\n",
       "       [1. , 5. , 2. , 3.5, 1. ],\n",
       "       [1. , 7.2, 3.6, 6.1, 2.5],\n",
       "       [1. , 4.9, 3.1, 1.5, 0.1],\n",
       "       [1. , 6. , 2.2, 4. , 1. ],\n",
       "       [1. , 5.4, 3.4, 1.5, 0.4],\n",
       "       [1. , 6.1, 3. , 4.9, 1.8],\n",
       "       [1. , 7.7, 3.8, 6.7, 2.2],\n",
       "       [1. , 5.4, 3.9, 1.3, 0.4],\n",
       "       [1. , 5.1, 3.8, 1.9, 0.4],\n",
       "       [1. , 6.8, 3. , 5.5, 2.1],\n",
       "       [1. , 6. , 3. , 4.8, 1.8],\n",
       "       [1. , 5.7, 2.8, 4.1, 1.3],\n",
       "       [1. , 5.8, 2.7, 5.1, 1.9],\n",
       "       [1. , 5.8, 2.7, 4.1, 1. ],\n",
       "       [1. , 4.9, 3.1, 1.5, 0.2],\n",
       "       [1. , 4.8, 3.1, 1.6, 0.2],\n",
       "       [1. , 6.6, 2.9, 4.6, 1.3],\n",
       "       [1. , 5. , 3.2, 1.2, 0.2],\n",
       "       [1. , 6.7, 3. , 5. , 1.7],\n",
       "       [1. , 5. , 3.3, 1.4, 0.2],\n",
       "       [1. , 4.6, 3.4, 1.4, 0.3],\n",
       "       [1. , 7.1, 3. , 5.9, 2.1],\n",
       "       [1. , 6.4, 3.1, 5.5, 1.8],\n",
       "       [1. , 4.5, 2.3, 1.3, 0.3],\n",
       "       [1. , 6.5, 3.2, 5.1, 2. ],\n",
       "       [1. , 4.6, 3.6, 1. , 0.2],\n",
       "       [1. , 5.1, 3.8, 1.5, 0.3],\n",
       "       [1. , 5.6, 2.9, 3.6, 1.3],\n",
       "       [1. , 4.6, 3.2, 1.4, 0.2],\n",
       "       [1. , 5.7, 2.5, 5. , 2. ],\n",
       "       [1. , 6.7, 3.1, 5.6, 2.4],\n",
       "       [1. , 5.8, 4. , 1.2, 0.2],\n",
       "       [1. , 6.9, 3.1, 5.1, 2.3],\n",
       "       [1. , 5.5, 3.5, 1.3, 0.2],\n",
       "       [1. , 6.2, 2.9, 4.3, 1.3],\n",
       "       [1. , 6.3, 3.4, 5.6, 2.4]])"
      ]
     },
     "execution_count": 20,
     "metadata": {},
     "output_type": "execute_result"
    }
   ],
   "source": [
    "train_features_with_bias_column"
   ]
  },
  {
   "cell_type": "code",
   "execution_count": 21,
   "id": "9b283f2a",
   "metadata": {},
   "outputs": [
    {
     "data": {
      "text/plain": [
       "array([[ 1.        , -0.27026963, -0.80343997,  0.26748398,  0.12061433],\n",
       "       [ 1.        ,  0.58001686,  0.55768186,  0.5535631 ,  0.51535212],\n",
       "       [ 1.        , -0.14880014, -0.34973269,  0.26748398,  0.12061433],\n",
       "       [ 1.        ,  0.58001686, -0.34973269,  1.06850553,  0.77851064],\n",
       "       [ 1.        ,  1.30883385,  0.10397458,  0.66799475,  0.38377285],\n",
       "       [ 1.        , -1.84937312, -0.12287905, -1.50620658, -1.45833684],\n",
       "       [ 1.        , -0.02733064, -0.57658633,  0.7824264 ,  1.56798623],\n",
       "       [ 1.        , -0.75614763,  0.7845355 , -1.33455911, -1.32675758],\n",
       "       [ 1.        ,  2.52352884,  1.69195006,  1.52623212,  1.04166917],\n",
       "       [ 1.        , -0.51320863,  1.9188037 , -1.16291164, -1.06359905],\n",
       "       [ 1.        , -0.27026963, -0.12287905,  0.43913145,  0.38377285],\n",
       "       [ 1.        ,  0.82295585, -0.12287905,  1.0112897 ,  0.77851064],\n",
       "       [ 1.        , -1.12055613, -1.25714725,  0.43913145,  0.64693138],\n",
       "       [ 1.        ,  2.28058984, -0.12287905,  1.35458465,  1.43640696],\n",
       "       [ 1.        , -1.24202562, -0.12287905, -1.33455911, -1.45833684],\n",
       "       [ 1.        , -0.39173913, -1.25714725,  0.15305233,  0.12061433],\n",
       "       [ 1.        ,  0.82295585, -0.57658633,  0.49634728,  0.38377285],\n",
       "       [ 1.        ,  0.45854736, -1.93770817,  0.43913145,  0.38377285],\n",
       "       [ 1.        ,  2.28058984, -0.57658633,  1.6978796 ,  1.04166917],\n",
       "       [ 1.        , -0.87761713,  1.69195006, -1.22012746, -1.32675758],\n",
       "       [ 1.        ,  1.43030335,  0.33082822,  0.5535631 ,  0.25219359],\n",
       "       [ 1.        , -0.02733064, -0.80343997,  0.7824264 ,  0.91008991],\n",
       "       [ 1.        ,  1.06589485,  0.55768186,  1.12572135,  1.69956549],\n",
       "       [ 1.        , -1.24202562, -0.12287905, -1.33455911, -1.19517831],\n",
       "       [ 1.        ,  1.06589485,  0.10397458,  0.5535631 ,  0.38377285],\n",
       "       [ 1.        ,  0.33707786, -0.57658633,  0.5535631 , -0.01096494],\n",
       "       [ 1.        , -0.99908663,  0.7845355 , -1.27734329, -1.32675758],\n",
       "       [ 1.        , -0.14880014,  1.69195006, -1.16291164, -1.19517831],\n",
       "       [ 1.        ,  0.70148636,  0.33082822,  0.43913145,  0.38377285],\n",
       "       [ 1.        ,  0.58001686, -1.25714725,  0.72521058,  0.91008991],\n",
       "       [ 1.        ,  0.58001686, -1.25714725,  0.66799475,  0.38377285],\n",
       "       [ 1.        , -0.02733064, -1.03029361,  0.15305233, -0.01096494],\n",
       "       [ 1.        , -1.72790362, -0.12287905, -1.39177493, -1.32675758],\n",
       "       [ 1.        , -1.72790362, -0.34973269, -1.33455911, -1.32675758],\n",
       "       [ 1.        ,  0.58001686,  0.55768186,  1.29736882,  1.69956549],\n",
       "       [ 1.        , -0.87761713, -1.25714725, -0.41910592, -0.1425442 ],\n",
       "       [ 1.        , -0.87761713,  1.46509642, -1.27734329, -1.06359905],\n",
       "       [ 1.        ,  0.33707786, -0.57658633,  0.15305233,  0.12061433],\n",
       "       [ 1.        , -0.75614763, -0.80343997,  0.09583651,  0.25219359],\n",
       "       [ 1.        ,  1.06589485,  0.10397458,  0.38191563,  0.25219359],\n",
       "       [ 1.        ,  0.70148636, -0.57658633,  1.06850553,  1.3048277 ],\n",
       "       [ 1.        ,  1.06589485, -1.25714725,  1.18293717,  0.77851064],\n",
       "       [ 1.        , -0.99908663, -1.71085453, -0.24745844, -0.27412347],\n",
       "       [ 1.        , -0.99908663,  0.7845355 , -1.22012746, -1.06359905],\n",
       "       [ 1.        ,  0.94442535, -0.12287905,  0.38191563,  0.25219359],\n",
       "       [ 1.        ,  0.58001686, -0.57658633,  0.7824264 ,  0.38377285],\n",
       "       [ 1.        ,  1.30883385,  0.10397458,  0.95407388,  1.17324844],\n",
       "       [ 1.        ,  0.70148636, -0.34973269,  0.3246998 ,  0.12061433],\n",
       "       [ 1.        , -0.51320863,  1.46509642, -1.27734329, -1.32675758],\n",
       "       [ 1.        , -0.27026963, -0.12287905,  0.21026816,  0.12061433],\n",
       "       [ 1.        , -1.36349512,  0.33082822, -1.22012746, -1.32675758],\n",
       "       [ 1.        ,  0.33707786, -0.34973269,  0.5535631 ,  0.25219359],\n",
       "       [ 1.        , -0.14880014, -0.57658633,  0.43913145,  0.12061433],\n",
       "       [ 1.        , -0.14880014, -0.12287905,  0.26748398, -0.01096494],\n",
       "       [ 1.        , -1.72790362,  0.33082822, -1.39177493, -1.32675758],\n",
       "       [ 1.        , -0.87761713,  1.01138914, -1.33455911, -1.19517831],\n",
       "       [ 1.        , -0.87761713,  0.7845355 , -1.27734329, -1.32675758],\n",
       "       [ 1.        ,  0.09413886, -0.12287905,  0.7824264 ,  0.77851064],\n",
       "       [ 1.        , -0.39173913, -1.71085453,  0.15305233,  0.12061433],\n",
       "       [ 1.        ,  1.18736435, -0.57658633,  0.61077893,  0.25219359],\n",
       "       [ 1.        ,  1.79471184, -0.34973269,  1.4690163 ,  0.77851064],\n",
       "       [ 1.        , -0.99908663,  1.01138914, -1.39177493, -1.19517831],\n",
       "       [ 1.        , -0.39173913, -1.48400089,  0.03862068, -0.1425442 ],\n",
       "       [ 1.        , -0.27026963, -1.25714725,  0.09583651, -0.1425442 ],\n",
       "       [ 1.        ,  2.28058984, -1.03029361,  1.81231125,  1.43640696],\n",
       "       [ 1.        , -1.12055613, -0.12287905, -1.33455911, -1.32675758],\n",
       "       [ 1.        ,  0.45854736,  0.7845355 ,  0.95407388,  1.43640696],\n",
       "       [ 1.        ,  0.82295585, -0.12287905,  1.18293717,  1.3048277 ],\n",
       "       [ 1.        ,  0.21560836, -1.93770817,  0.72521058,  0.38377285],\n",
       "       [ 1.        , -1.24202562,  0.7845355 , -1.22012746, -1.32675758],\n",
       "       [ 1.        ,  1.06589485, -0.12287905,  0.83964223,  1.43640696],\n",
       "       [ 1.        , -0.51320863, -0.12287905,  0.43913145,  0.38377285],\n",
       "       [ 1.        ,  0.21560836, -0.80343997,  0.7824264 ,  0.51535212],\n",
       "       [ 1.        , -0.99908663,  1.01138914, -1.22012746, -0.80044052],\n",
       "       [ 1.        ,  0.70148636, -0.57658633,  1.06850553,  1.17324844],\n",
       "       [ 1.        , -0.75614763,  2.37251097, -1.27734329, -1.45833684],\n",
       "       [ 1.        ,  0.09413886, -0.12287905,  0.26748398,  0.38377285],\n",
       "       [ 1.        , -1.12055613, -1.48400089, -0.24745844, -0.27412347],\n",
       "       [ 1.        ,  0.70148636,  0.33082822,  0.89685805,  1.43640696],\n",
       "       [ 1.        , -0.87761713,  0.55768186, -1.16291164, -0.93201978],\n",
       "       [ 1.        ,  0.82295585, -0.12287905,  0.83964223,  1.04166917],\n",
       "       [ 1.        , -0.27026963, -0.57658633,  0.66799475,  1.04166917],\n",
       "       [ 1.        , -0.14880014,  3.05307189, -1.27734329, -1.06359905],\n",
       "       [ 1.        , -0.63467813,  1.46509642, -1.27734329, -1.32675758],\n",
       "       [ 1.        , -0.99908663, -2.39141544, -0.13302679, -0.27412347],\n",
       "       [ 1.        ,  1.67324235,  1.23824278,  1.35458465,  1.69956549],\n",
       "       [ 1.        , -1.12055613,  0.10397458, -1.27734329, -1.45833684],\n",
       "       [ 1.        ,  0.21560836, -1.93770817,  0.15305233, -0.27412347],\n",
       "       [ 1.        , -0.51320863,  0.7845355 , -1.27734329, -1.06359905],\n",
       "       [ 1.        ,  0.33707786, -0.12287905,  0.66799475,  0.77851064],\n",
       "       [ 1.        ,  2.28058984,  1.69195006,  1.6978796 ,  1.3048277 ],\n",
       "       [ 1.        , -0.51320863,  1.9188037 , -1.39177493, -1.06359905],\n",
       "       [ 1.        , -0.87761713,  1.69195006, -1.04847999, -1.06359905],\n",
       "       [ 1.        ,  1.18736435, -0.12287905,  1.0112897 ,  1.17324844],\n",
       "       [ 1.        ,  0.21560836, -0.12287905,  0.61077893,  0.77851064],\n",
       "       [ 1.        , -0.14880014, -0.57658633,  0.21026816,  0.12061433],\n",
       "       [ 1.        , -0.02733064, -0.80343997,  0.7824264 ,  0.91008991],\n",
       "       [ 1.        , -0.02733064, -0.80343997,  0.21026816, -0.27412347],\n",
       "       [ 1.        , -1.12055613,  0.10397458, -1.27734329, -1.32675758],\n",
       "       [ 1.        , -1.24202562,  0.10397458, -1.22012746, -1.32675758],\n",
       "       [ 1.        ,  0.94442535, -0.34973269,  0.49634728,  0.12061433],\n",
       "       [ 1.        , -0.99908663,  0.33082822, -1.44899076, -1.32675758],\n",
       "       [ 1.        ,  1.06589485, -0.12287905,  0.72521058,  0.64693138],\n",
       "       [ 1.        , -0.99908663,  0.55768186, -1.33455911, -1.32675758],\n",
       "       [ 1.        , -1.48496462,  0.7845355 , -1.33455911, -1.19517831],\n",
       "       [ 1.        ,  1.55177285, -0.12287905,  1.240153  ,  1.17324844],\n",
       "       [ 1.        ,  0.70148636,  0.10397458,  1.0112897 ,  0.77851064],\n",
       "       [ 1.        , -1.60643412, -1.71085453, -1.39177493, -1.19517831],\n",
       "       [ 1.        ,  0.82295585,  0.33082822,  0.7824264 ,  1.04166917],\n",
       "       [ 1.        , -1.48496462,  1.23824278, -1.56342241, -1.32675758],\n",
       "       [ 1.        , -0.87761713,  1.69195006, -1.27734329, -1.19517831],\n",
       "       [ 1.        , -0.27026963, -0.34973269, -0.07581097,  0.12061433],\n",
       "       [ 1.        , -1.48496462,  0.33082822, -1.33455911, -1.32675758],\n",
       "       [ 1.        , -0.14880014, -1.25714725,  0.72521058,  1.04166917],\n",
       "       [ 1.        ,  1.06589485,  0.10397458,  1.06850553,  1.56798623],\n",
       "       [ 1.        , -0.02733064,  2.14565733, -1.44899076, -1.32675758],\n",
       "       [ 1.        ,  1.30883385,  0.10397458,  0.7824264 ,  1.43640696],\n",
       "       [ 1.        , -0.39173913,  1.01138914, -1.39177493, -1.32675758],\n",
       "       [ 1.        ,  0.45854736, -0.34973269,  0.3246998 ,  0.12061433],\n",
       "       [ 1.        ,  0.58001686,  0.7845355 ,  1.06850553,  1.56798623]])"
      ]
     },
     "execution_count": 21,
     "metadata": {},
     "output_type": "execute_result"
    }
   ],
   "source": [
    "train_features_scaled_linear"
   ]
  },
  {
   "cell_type": "code",
   "execution_count": 22,
   "id": "73be9386",
   "metadata": {},
   "outputs": [],
   "source": [
    "# train"
   ]
  },
  {
   "cell_type": "code",
   "execution_count": 23,
   "id": "c0f66fe2",
   "metadata": {},
   "outputs": [],
   "source": [
    "best_parameter_matrix_linear, best_cost_linear, number_of_gradient_steps_performed_linear = softmax_regression_with_early_stopping(train_features_scaled_linear, train_labels, method='stochastic')"
   ]
  },
  {
   "cell_type": "code",
   "execution_count": 24,
   "id": "fe24682b",
   "metadata": {},
   "outputs": [
    {
     "data": {
      "text/plain": [
       "0.04167539501104463"
      ]
     },
     "execution_count": 24,
     "metadata": {},
     "output_type": "execute_result"
    }
   ],
   "source": [
    "best_cost_linear"
   ]
  },
  {
   "cell_type": "code",
   "execution_count": 25,
   "id": "dd64f7ed",
   "metadata": {},
   "outputs": [
    {
     "data": {
      "text/plain": [
       "array([[-0.55483988, -1.80516521,  1.84409505, -3.33528908, -3.0285141 ],\n",
       "       [ 3.48598318,  1.45531207, -0.64757287, -0.46197062, -1.82172403],\n",
       "       [-2.9311433 ,  0.34985314, -1.19652218,  3.79725969,  4.85023813]])"
      ]
     },
     "execution_count": 25,
     "metadata": {},
     "output_type": "execute_result"
    }
   ],
   "source": [
    "best_parameter_matrix_linear"
   ]
  },
  {
   "cell_type": "code",
   "execution_count": 26,
   "id": "9a592b56",
   "metadata": {},
   "outputs": [
    {
     "data": {
      "text/plain": [
       "1080702"
      ]
     },
     "execution_count": 26,
     "metadata": {},
     "output_type": "execute_result"
    }
   ],
   "source": [
    "number_of_gradient_steps_performed_linear"
   ]
  },
  {
   "cell_type": "code",
   "execution_count": 27,
   "id": "eccdee05",
   "metadata": {},
   "outputs": [],
   "source": [
    "# train on degree 2 polynomial expansion of features"
   ]
  },
  {
   "cell_type": "code",
   "execution_count": 28,
   "id": "3b0ee6d2",
   "metadata": {},
   "outputs": [],
   "source": [
    "train_features = features[train_indices]\n",
    "test_features = features[test_indices]"
   ]
  },
  {
   "cell_type": "code",
   "execution_count": 29,
   "id": "f4ebd695",
   "metadata": {},
   "outputs": [],
   "source": [
    "from sklearn.preprocessing import PolynomialFeatures\n",
    "poly_degree_2 = PolynomialFeatures()\n",
    "\n",
    "train_features_poly = poly_degree_2.fit_transform(train_features)\n",
    "test_features_poly = poly_degree_2.transform(test_features)"
   ]
  },
  {
   "cell_type": "code",
   "execution_count": 30,
   "id": "3a30e4aa",
   "metadata": {},
   "outputs": [
    {
     "data": {
      "text/plain": [
       "array([ 1.  ,  5.6 ,  2.7 ,  4.2 ,  1.3 , 31.36, 15.12, 23.52,  7.28,\n",
       "        7.29, 11.34,  3.51, 17.64,  5.46,  1.69])"
      ]
     },
     "execution_count": 30,
     "metadata": {},
     "output_type": "execute_result"
    }
   ],
   "source": [
    "train_features_poly[0]"
   ]
  },
  {
   "cell_type": "code",
   "execution_count": 31,
   "id": "10cf7059",
   "metadata": {},
   "outputs": [],
   "source": [
    "n_poly = np.shape(train_features_poly)[1]\n",
    "scaler_that_ignores_constant_column_poly = ColumnTransformer([('constant', 'passthrough', slice(1)), ('feature_weights', StandardScaler(), slice(1, n_poly))])\n",
    "train_features_scaled_poly = scaler_that_ignores_constant_column_poly.fit_transform(train_features_poly)\n",
    "test_features_scaled_poly = scaler_that_ignores_constant_column_poly.transform(test_features_poly)"
   ]
  },
  {
   "cell_type": "code",
   "execution_count": 32,
   "id": "436edca4",
   "metadata": {
    "scrolled": true
   },
   "outputs": [
    {
     "data": {
      "text/plain": [
       "array([ 1.        , -0.27026963, -0.80343997,  0.26748398,  0.12061433,\n",
       "       -0.32724737, -0.7643554 ,  0.0426849 , -0.04923693, -0.8069326 ,\n",
       "        0.04956151, -0.02703614,  0.05262896, -0.07010014, -0.18753652])"
      ]
     },
     "execution_count": 32,
     "metadata": {},
     "output_type": "execute_result"
    }
   ],
   "source": [
    "train_features_scaled_poly[0]"
   ]
  },
  {
   "cell_type": "code",
   "execution_count": 33,
   "id": "3b234a2f",
   "metadata": {},
   "outputs": [],
   "source": [
    "best_parameter_matrix_poly, best_cost_poly, number_of_gradient_steps_performed_poly = softmax_regression_with_early_stopping(train_features_scaled_poly, train_labels, method='stochastic')"
   ]
  },
  {
   "cell_type": "code",
   "execution_count": 34,
   "id": "b106f173",
   "metadata": {},
   "outputs": [
    {
     "data": {
      "text/plain": [
       "0.04699108002655002"
      ]
     },
     "execution_count": 34,
     "metadata": {},
     "output_type": "execute_result"
    }
   ],
   "source": [
    "best_cost_poly"
   ]
  },
  {
   "cell_type": "code",
   "execution_count": 35,
   "id": "372985e8",
   "metadata": {},
   "outputs": [
    {
     "data": {
      "text/plain": [
       "array([[-0.88147686, -0.52449854,  1.06354937, -1.33010975, -1.18428954,\n",
       "        -0.39928552,  0.38886031, -0.93741861, -0.86084922,  1.05850608,\n",
       "        -1.0015434 , -0.92183354, -0.8339952 , -0.69307422, -0.5192302 ],\n",
       "       [ 3.20344577,  0.74133506, -0.3241343 ,  0.44960858,  0.32243724,\n",
       "         0.49437006,  0.34062787, -0.01457722, -0.07442966, -0.65384348,\n",
       "         0.72007292,  0.49109542, -1.11201224, -1.24810223, -1.53383983],\n",
       "       [-2.32196891, -0.21683652, -0.73941507,  0.88050117,  0.8618523 ,\n",
       "        -0.09508454, -0.72948818,  0.95199582,  0.93527889, -0.40466261,\n",
       "         0.28147048,  0.43073812,  1.94600744,  1.94117644,  2.05307003]])"
      ]
     },
     "execution_count": 35,
     "metadata": {},
     "output_type": "execute_result"
    }
   ],
   "source": [
    "best_parameter_matrix_poly"
   ]
  },
  {
   "cell_type": "code",
   "execution_count": 36,
   "id": "ad17453b",
   "metadata": {},
   "outputs": [
    {
     "data": {
      "text/plain": [
       "1080249"
      ]
     },
     "execution_count": 36,
     "metadata": {},
     "output_type": "execute_result"
    }
   ],
   "source": [
    "number_of_gradient_steps_performed_poly"
   ]
  },
  {
   "cell_type": "code",
   "execution_count": 37,
   "id": "f02d2513",
   "metadata": {},
   "outputs": [],
   "source": [
    "# train on interaction expansion of features"
   ]
  },
  {
   "cell_type": "code",
   "execution_count": 38,
   "id": "38adfa7a",
   "metadata": {},
   "outputs": [],
   "source": [
    "interactions = PolynomialFeatures(interaction_only=True)\n",
    "\n",
    "train_features_interactions = interactions.fit_transform(train_features)\n",
    "test_features_interactions = interactions.transform(test_features)"
   ]
  },
  {
   "cell_type": "code",
   "execution_count": 39,
   "id": "b249de15",
   "metadata": {},
   "outputs": [],
   "source": [
    "n_interactions = np.shape(train_features_interactions)[1]\n",
    "scaler_that_ignores_constant_column_interactions = ColumnTransformer([('constant', 'passthrough', slice(1)), ('feature_weights', StandardScaler(), slice(1, n_interactions))])\n",
    "train_features_scaled_interactions = scaler_that_ignores_constant_column_interactions.fit_transform(train_features_interactions)\n",
    "test_features_scaled_interactions = scaler_that_ignores_constant_column_interactions.transform(test_features_interactions)"
   ]
  },
  {
   "cell_type": "code",
   "execution_count": 40,
   "id": "03bbca61",
   "metadata": {},
   "outputs": [
    {
     "data": {
      "text/plain": [
       "array([ 1.        , -0.27026963, -0.80343997,  0.26748398,  0.12061433,\n",
       "       -0.7643554 ,  0.0426849 , -0.04923693,  0.04956151, -0.02703614,\n",
       "       -0.07010014])"
      ]
     },
     "execution_count": 40,
     "metadata": {},
     "output_type": "execute_result"
    }
   ],
   "source": [
    "train_features_scaled_interactions[0]"
   ]
  },
  {
   "cell_type": "code",
   "execution_count": 41,
   "id": "2d9d72d9",
   "metadata": {},
   "outputs": [],
   "source": [
    "best_parameter_matrix_interactions, best_cost_interactions, number_of_gradient_steps_performed_interactions = softmax_regression_with_early_stopping(train_features_scaled_interactions, train_labels, method='stochastic')"
   ]
  },
  {
   "cell_type": "code",
   "execution_count": 42,
   "id": "345fd9d3",
   "metadata": {
    "scrolled": true
   },
   "outputs": [
    {
     "data": {
      "text/plain": [
       "0.002212424668078495"
      ]
     },
     "execution_count": 42,
     "metadata": {},
     "output_type": "execute_result"
    }
   ],
   "source": [
    "best_cost_interactions"
   ]
  },
  {
   "cell_type": "code",
   "execution_count": 43,
   "id": "64f599fc",
   "metadata": {},
   "outputs": [
    {
     "data": {
      "text/plain": [
       "array([[-0.88875671, -0.66929574,  1.61545186, -1.6561378 , -1.48032666,\n",
       "         0.6455912 , -1.20242135, -1.11077206, -1.22420664, -1.14699542,\n",
       "        -0.92018954],\n",
       "       [ 3.61813832,  1.16978398, -0.69292944,  0.24438293, -0.18522749,\n",
       "         0.39784814, -0.16013694, -0.52152232,  0.52649634,  0.03285018,\n",
       "        -2.11161373],\n",
       "       [-2.72938161, -0.50048824, -0.92252242,  1.41175487,  1.66555416,\n",
       "        -1.04343934,  1.3625583 ,  1.63229438,  0.6977103 ,  1.11414524,\n",
       "         3.03180327]])"
      ]
     },
     "execution_count": 43,
     "metadata": {},
     "output_type": "execute_result"
    }
   ],
   "source": [
    "best_parameter_matrix_interactions"
   ]
  },
  {
   "cell_type": "code",
   "execution_count": 44,
   "id": "8191e49a",
   "metadata": {},
   "outputs": [
    {
     "data": {
      "text/plain": [
       "1080369"
      ]
     },
     "execution_count": 44,
     "metadata": {},
     "output_type": "execute_result"
    }
   ],
   "source": [
    "number_of_gradient_steps_performed_interactions"
   ]
  },
  {
   "cell_type": "code",
   "execution_count": 45,
   "id": "19b9402a",
   "metadata": {},
   "outputs": [],
   "source": [
    "# select best model (model with the lowest minimized validation set cost)"
   ]
  },
  {
   "cell_type": "code",
   "execution_count": 46,
   "id": "6550c5cf",
   "metadata": {},
   "outputs": [],
   "source": [
    "best_cost = min(best_cost_linear, best_cost_poly, best_cost_interactions)\n",
    "if best_cost == best_cost_linear:\n",
    "    best_parameter_matrix = best_parameter_matrix_linear\n",
    "    test_features_scaled = test_features_scaled_linear\n",
    "elif best_cost == best_cost_poly:\n",
    "    best_parameter_matrix = best_parameter_matrix_poly\n",
    "    test_features_scaled = test_features_scaled_poly\n",
    "else:\n",
    "    best_parameter_matrix = best_parameter_matrix_interactions\n",
    "    test_features_scaled = test_features_scaled_interactions"
   ]
  },
  {
   "cell_type": "code",
   "execution_count": 47,
   "id": "80921a1b",
   "metadata": {},
   "outputs": [],
   "source": [
    "# compute cost of best model on test set"
   ]
  },
  {
   "cell_type": "code",
   "execution_count": 48,
   "id": "bf579be1",
   "metadata": {},
   "outputs": [
    {
     "data": {
      "text/plain": [
       "0.11746522716317315"
      ]
     },
     "execution_count": 48,
     "metadata": {},
     "output_type": "execute_result"
    }
   ],
   "source": [
    "test_estimated_probabilities = compute_softmax_estimated_probabilities(test_features_scaled, best_parameter_matrix)\n",
    "compute_cross_entropy_cost(test_labels, test_estimated_probabilities)"
   ]
  },
  {
   "cell_type": "code",
   "execution_count": 49,
   "id": "da97a4c1",
   "metadata": {},
   "outputs": [],
   "source": [
    "# compute accuracy of best model on test set just for fun"
   ]
  },
  {
   "cell_type": "code",
   "execution_count": 50,
   "id": "023b7d4d",
   "metadata": {},
   "outputs": [
    {
     "data": {
      "text/plain": [
       "array([2, 1, 1, 0, 2, 2, 1, 2, 2, 0, 2, 0, 0, 2, 2, 0, 0, 0, 2, 1, 0, 2,\n",
       "       2, 1, 0, 1, 1, 0, 1, 1], dtype=int64)"
      ]
     },
     "execution_count": 50,
     "metadata": {},
     "output_type": "execute_result"
    }
   ],
   "source": [
    "test_predictions = np.argmax(test_estimated_probabilities, 1)\n",
    "test_predictions"
   ]
  },
  {
   "cell_type": "code",
   "execution_count": 51,
   "id": "9f6a9446",
   "metadata": {},
   "outputs": [
    {
     "data": {
      "text/plain": [
       "array([1, 1, 2, 0, 2, 2, 1, 2, 2, 0, 2, 0, 0, 2, 2, 0, 0, 0, 2, 1, 0, 2,\n",
       "       2, 1, 0, 1, 1, 0, 1, 1])"
      ]
     },
     "execution_count": 51,
     "metadata": {},
     "output_type": "execute_result"
    }
   ],
   "source": [
    "test_targets = iris['target'][test_indices]\n",
    "test_targets"
   ]
  },
  {
   "cell_type": "code",
   "execution_count": 52,
   "id": "a6fb3e12",
   "metadata": {},
   "outputs": [
    {
     "data": {
      "text/plain": [
       "array([False,  True, False,  True,  True,  True,  True,  True,  True,\n",
       "        True,  True,  True,  True,  True,  True,  True,  True,  True,\n",
       "        True,  True,  True,  True,  True,  True,  True,  True,  True,\n",
       "        True,  True,  True])"
      ]
     },
     "execution_count": 52,
     "metadata": {},
     "output_type": "execute_result"
    }
   ],
   "source": [
    "test_predictions_equals_test_targets = test_predictions == test_targets\n",
    "test_predictions_equals_test_targets"
   ]
  },
  {
   "cell_type": "code",
   "execution_count": 53,
   "id": "bcd49c37",
   "metadata": {
    "scrolled": false
   },
   "outputs": [
    {
     "data": {
      "text/plain": [
       "0.9333333333333333"
      ]
     },
     "execution_count": 53,
     "metadata": {},
     "output_type": "execute_result"
    }
   ],
   "source": [
    "accuracy = np.average(test_predictions_equals_test_targets)\n",
    "accuracy"
   ]
  },
  {
   "cell_type": "code",
   "execution_count": 54,
   "id": "4e408044",
   "metadata": {},
   "outputs": [],
   "source": [
    "# evaluate cost and accuracy of zeroed parameter matrix just for fun"
   ]
  },
  {
   "cell_type": "code",
   "execution_count": 55,
   "id": "07a8ffcc",
   "metadata": {},
   "outputs": [
    {
     "data": {
      "text/plain": [
       "1.0986122886681098"
      ]
     },
     "execution_count": 55,
     "metadata": {},
     "output_type": "execute_result"
    }
   ],
   "source": [
    "n = np.shape(train_features_with_bias_column)[1]\n",
    "K = np.shape(train_labels)[1]\n",
    "parameter_matrix_zeroed = np.zeros((K, n))\n",
    "\n",
    "test_estimated_probabilities_zeroed = compute_softmax_estimated_probabilities(test_features_scaled_linear, parameter_matrix_zeroed)\n",
    "compute_cross_entropy_cost(test_labels, test_estimated_probabilities_zeroed)"
   ]
  },
  {
   "cell_type": "code",
   "execution_count": 56,
   "id": "bd586539",
   "metadata": {},
   "outputs": [
    {
     "data": {
      "text/plain": [
       "array([0, 0, 0, 0, 0, 0, 0, 0, 0, 0, 0, 0, 0, 0, 0, 0, 0, 0, 0, 0, 0, 0,\n",
       "       0, 0, 0, 0, 0, 0, 0, 0], dtype=int64)"
      ]
     },
     "execution_count": 56,
     "metadata": {},
     "output_type": "execute_result"
    }
   ],
   "source": [
    "test_predictions_zeroed = np.argmax(test_estimated_probabilities_zeroed, 1)\n",
    "test_predictions_zeroed"
   ]
  },
  {
   "cell_type": "code",
   "execution_count": 57,
   "id": "481704cc",
   "metadata": {},
   "outputs": [
    {
     "data": {
      "text/plain": [
       "array([False, False, False,  True, False, False, False, False, False,\n",
       "        True, False,  True,  True, False, False,  True,  True,  True,\n",
       "       False, False,  True, False, False, False,  True, False, False,\n",
       "        True, False, False])"
      ]
     },
     "execution_count": 57,
     "metadata": {},
     "output_type": "execute_result"
    }
   ],
   "source": [
    "test_predictions_zeroed_equals_test_targets = test_predictions_zeroed == test_targets\n",
    "test_predictions_zeroed_equals_test_targets"
   ]
  },
  {
   "cell_type": "code",
   "execution_count": 58,
   "id": "b2eeb7b0",
   "metadata": {},
   "outputs": [
    {
     "data": {
      "text/plain": [
       "0.3333333333333333"
      ]
     },
     "execution_count": 58,
     "metadata": {},
     "output_type": "execute_result"
    }
   ],
   "source": [
    "accuracy_zeroed = np.average(test_predictions_zeroed_equals_test_targets)\n",
    "accuracy_zeroed"
   ]
  },
  {
   "cell_type": "code",
   "execution_count": null,
   "id": "9de1137c",
   "metadata": {},
   "outputs": [],
   "source": []
  }
 ],
 "metadata": {
  "kernelspec": {
   "display_name": "Python 3 (ipykernel)",
   "language": "python",
   "name": "python3"
  },
  "language_info": {
   "codemirror_mode": {
    "name": "ipython",
    "version": 3
   },
   "file_extension": ".py",
   "mimetype": "text/x-python",
   "name": "python",
   "nbconvert_exporter": "python",
   "pygments_lexer": "ipython3",
   "version": "3.9.7"
  }
 },
 "nbformat": 4,
 "nbformat_minor": 5
}
